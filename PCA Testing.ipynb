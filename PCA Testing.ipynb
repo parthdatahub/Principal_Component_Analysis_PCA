{
 "cells": [
  {
   "cell_type": "markdown",
   "id": "bec6855e",
   "metadata": {},
   "source": [
    "# PCA Testing"
   ]
  },
  {
   "cell_type": "code",
   "execution_count": 6,
   "id": "c18a0b01",
   "metadata": {},
   "outputs": [],
   "source": [
    "import pickle\n",
    "\n",
    "import pandas as pd\n",
    "import numpy as np\n",
    "\n",
    "import warnings\n",
    "warnings.filterwarnings(\"ignore\")"
   ]
  },
  {
   "cell_type": "code",
   "execution_count": 3,
   "id": "e74c1687",
   "metadata": {},
   "outputs": [],
   "source": [
    "with open(\"Std_scalar.pkl\", \"rb\") as f:\n",
    "    std_scalar = pickle.load(f)\n",
    "    \n",
    "with open(\"pca.pkl\", \"rb\") as f:\n",
    "    pca = pickle.load(f)\n",
    "    \n",
    "with open(\"knn_model.pkl\", \"rb\") as f:\n",
    "    knn_model = pickle.load(f)"
   ]
  },
  {
   "cell_type": "code",
   "execution_count": 7,
   "id": "1f87f431",
   "metadata": {},
   "outputs": [
    {
     "data": {
      "text/plain": [
       "array([5.1, 3.5, 1.4, 0.2])"
      ]
     },
     "execution_count": 7,
     "metadata": {},
     "output_type": "execute_result"
    }
   ],
   "source": [
    "user_data = np.array([5.1, 3.5, 1.4 ,0.2])\n",
    "user_data"
   ]
  },
  {
   "cell_type": "code",
   "execution_count": 11,
   "id": "4a31b348",
   "metadata": {},
   "outputs": [
    {
     "data": {
      "text/plain": [
       "array([6.7, 3. , 5.2, 2.3])"
      ]
     },
     "execution_count": 11,
     "metadata": {},
     "output_type": "execute_result"
    }
   ],
   "source": [
    "user_data = np.array([6.7, 3.0, 5.2, 2.3])\n",
    "user_data"
   ]
  },
  {
   "cell_type": "code",
   "execution_count": 12,
   "id": "41fa2ed7",
   "metadata": {},
   "outputs": [
    {
     "data": {
      "text/plain": [
       "2"
      ]
     },
     "execution_count": 12,
     "metadata": {},
     "output_type": "execute_result"
    }
   ],
   "source": [
    "x_test_std = std_scalar.transform([user_data])\n",
    "x_test_pca = pca.transform(x_test_std)\n",
    "\n",
    "prediction = knn_model.predict(x_test_pca)[0]\n",
    "prediction"
   ]
  },
  {
   "cell_type": "code",
   "execution_count": null,
   "id": "68b567a9",
   "metadata": {},
   "outputs": [],
   "source": []
  }
 ],
 "metadata": {
  "kernelspec": {
   "display_name": "Python 3 (ipykernel)",
   "language": "python",
   "name": "python3"
  },
  "language_info": {
   "codemirror_mode": {
    "name": "ipython",
    "version": 3
   },
   "file_extension": ".py",
   "mimetype": "text/x-python",
   "name": "python",
   "nbconvert_exporter": "python",
   "pygments_lexer": "ipython3",
   "version": "3.11.0"
  }
 },
 "nbformat": 4,
 "nbformat_minor": 5
}
